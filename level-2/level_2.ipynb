{
  "nbformat": 4,
  "nbformat_minor": 0,
  "metadata": {
    "colab": {
      "name": "level-2.ipynb",
      "provenance": [],
      "collapsed_sections": []
    },
    "kernelspec": {
      "name": "python3",
      "display_name": "Python 3"
    }
  },
  "cells": [
    {
      "cell_type": "code",
      "metadata": {
        "id": "-HXiDRPwrq6K",
        "colab_type": "code",
        "colab": {
          "base_uri": "https://localhost:8080/",
          "height": 243
        },
        "outputId": "4f08051f-ce29-4aa6-ccb7-af658cae60e2"
      },
      "source": [
        "# Install Java, Spark, and Findspark\n",
        "!apt-get update\n",
        "!apt-get install openjdk-8-jdk-headless -qq > /dev/null\n",
        "!wget -q http://www-us.apache.org/dist/spark/spark-2.4.6/spark-2.4.6-bin-hadoop2.7.tgz\n",
        "!tar xf spark-2.4.6-bin-hadoop2.7.tgz\n",
        "!pip install -q findspark\n",
        "\n",
        "# Set Environment Variables\n",
        "import os\n",
        "os.environ[\"JAVA_HOME\"] = \"/usr/lib/jvm/java-8-openjdk-amd64\"\n",
        "os.environ[\"SPARK_HOME\"] = \"/content/spark-2.4.6-bin-hadoop2.7\"\n",
        "\n",
        "# Start a SparkSession\n",
        "import findspark\n",
        "findspark.init()"
      ],
      "execution_count": 1,
      "outputs": [
        {
          "output_type": "stream",
          "text": [
            "\r0% [Working]\r            \rHit:1 http://ppa.launchpad.net/graphics-drivers/ppa/ubuntu bionic InRelease\n",
            "\r0% [Connecting to archive.ubuntu.com (91.189.88.142)] [Connecting to security.u\r                                                                               \rHit:2 http://archive.ubuntu.com/ubuntu bionic InRelease\n",
            "\r0% [Waiting for headers] [Connecting to security.ubuntu.com (91.189.91.38)] [Co\r                                                                               \rHit:3 http://ppa.launchpad.net/marutter/c2d4u3.5/ubuntu bionic InRelease\n",
            "\r0% [Waiting for headers] [Connecting to security.ubuntu.com (91.189.91.38)] [Co\r0% [1 InRelease gpgv 21.3 kB] [Waiting for headers] [Connecting to security.ubu\r                                                                               \rGet:4 http://archive.ubuntu.com/ubuntu bionic-updates InRelease [88.7 kB]\n",
            "Get:5 http://archive.ubuntu.com/ubuntu bionic-backports InRelease [74.6 kB]\n",
            "Get:6 http://security.ubuntu.com/ubuntu bionic-security InRelease [88.7 kB]\n",
            "Ign:7 https://developer.download.nvidia.com/compute/cuda/repos/ubuntu1804/x86_64  InRelease\n",
            "Hit:8 https://cloud.r-project.org/bin/linux/ubuntu bionic-cran35/ InRelease\n",
            "Ign:9 https://developer.download.nvidia.com/compute/machine-learning/repos/ubuntu1804/x86_64  InRelease\n",
            "Hit:10 https://developer.download.nvidia.com/compute/cuda/repos/ubuntu1804/x86_64  Release\n",
            "Hit:11 https://developer.download.nvidia.com/compute/machine-learning/repos/ubuntu1804/x86_64  Release\n",
            "Fetched 252 kB in 2s (157 kB/s)\n",
            "Reading package lists... Done\n"
          ],
          "name": "stdout"
        }
      ]
    },
    {
      "cell_type": "code",
      "metadata": {
        "id": "Jg4IzEnLz0PH",
        "colab_type": "code",
        "colab": {
          "base_uri": "https://localhost:8080/",
          "height": 208
        },
        "outputId": "7f9fce14-a249-4355-a34d-12b4e801baa3"
      },
      "source": [
        "!wget https://jdbc.postgresql.org/download/postgresql-42.2.9.jar"
      ],
      "execution_count": 2,
      "outputs": [
        {
          "output_type": "stream",
          "text": [
            "--2020-08-16 19:45:06--  https://jdbc.postgresql.org/download/postgresql-42.2.9.jar\n",
            "Resolving jdbc.postgresql.org (jdbc.postgresql.org)... 72.32.157.228, 2001:4800:3e1:1::228\n",
            "Connecting to jdbc.postgresql.org (jdbc.postgresql.org)|72.32.157.228|:443... connected.\n",
            "HTTP request sent, awaiting response... 200 OK\n",
            "Length: 914037 (893K) [application/java-archive]\n",
            "Saving to: ‘postgresql-42.2.9.jar.1’\n",
            "\n",
            "postgresql-42.2.9.j 100%[===================>] 892.61K  1.44MB/s    in 0.6s    \n",
            "\n",
            "2020-08-16 19:45:07 (1.44 MB/s) - ‘postgresql-42.2.9.jar.1’ saved [914037/914037]\n",
            "\n"
          ],
          "name": "stdout"
        }
      ]
    },
    {
      "cell_type": "code",
      "metadata": {
        "id": "YLoi_CZBz9OC",
        "colab_type": "code",
        "colab": {}
      },
      "source": [
        "from pyspark.sql import SparkSession\n",
        "spark = SparkSession.builder.appName(\"AmazonReview\").config(\"spark.driver.extraClassPath\",\"/content/postgresql-42.2.9.jar\").getOrCreate()"
      ],
      "execution_count": 3,
      "outputs": []
    },
    {
      "cell_type": "code",
      "metadata": {
        "id": "AgdXxO1R0MUU",
        "colab_type": "code",
        "colab": {
          "base_uri": "https://localhost:8080/",
          "height": 488
        },
        "outputId": "bd6b6bf4-b7f1-4274-ce58-f5d41a014a5c"
      },
      "source": [
        "# Read in data from S3 Buckets\n",
        "from pyspark import SparkFiles\n",
        "url=\"https://databootcamp-uci.s3-us-west-1.amazonaws.com/amazon_reviews_us_Sports_v1_00.tsv\"\n",
        "spark.sparkContext.addFile(url)\n",
        "user_data_df = spark.read.csv(SparkFiles.get(\"amazon_reviews_us_Sports_v1_00.tsv\"), sep=\"\\t\", header=True, inferSchema=True)\n",
        "\n",
        "# Show DataFrame\n",
        "user_data_df.show()"
      ],
      "execution_count": 4,
      "outputs": [
        {
          "output_type": "stream",
          "text": [
            "+-----------+-----------+--------------+----------+--------------+--------------------+----------------+-----------+-------------+-----------+----+-----------------+--------------------+--------------------+-------------------+\n",
            "|marketplace|customer_id|     review_id|product_id|product_parent|       product_title|product_category|star_rating|helpful_votes|total_votes|vine|verified_purchase|     review_headline|         review_body|        review_date|\n",
            "+-----------+-----------+--------------+----------+--------------+--------------------+----------------+-----------+-------------+-----------+----+-----------------+--------------------+--------------------+-------------------+\n",
            "|         US|   48945260|R1WBPB8MDCCN8F|B012P7UPSM|     409940130|Chicago Blackhawk...|          Sports|          5|            0|          0|   N|                N|   LOVE IT. 6 stars!|Bought this last ...|2015-08-31 00:00:00|\n",
            "|         US|    5782091|R32M0YEWV77XG8|B001GQ3VHG|     657746679|Copag Poker Size ...|          Sports|          5|            1|          1|   N|                Y|       Shipped fast.|These are the bes...|2015-08-31 00:00:00|\n",
            "|         US|   45813853| RR8V7WR27NXJ5|B008VS8M58|     962442336|Baoer 223 5.56x45...|          Sports|          1|            0|          0|   N|                Y|Good idea if it w...|It looks good, th...|2015-08-31 00:00:00|\n",
            "|         US|    1593730|R1MHO5V9Z932AY|B005F06F4U|      74305227|All Terrain Tackl...|          Sports|          5|            0|          0|   N|                Y|          Five Stars|           Great jig|2015-08-31 00:00:00|\n",
            "|         US|   29605511|R16PD71086BD2V|B010T4IE2C|     787185588|Swim Cap - 3 Pack...|          Sports|          5|            0|          1|   N|                N|Great quality sil...|I love swimming i...|2015-08-31 00:00:00|\n",
            "|         US|   11112959|R1Z8IFGWTRWXT6|B004RKJGLS|      94127483|adidas Men's Spor...|          Sports|          3|            0|          0|   N|                Y|Love everything a...|Love everything a...|2015-08-31 00:00:00|\n",
            "|         US|     108031|R3AUMSHAW73HWN|B005V3DCBU|     526977496|Nike Men's Perfor...|          Sports|          4|            2|          3|   N|                N|          Four Stars|not the best sock...|2015-08-31 00:00:00|\n",
            "|         US|   13981540|R2KWDWFOHGX6FL|B00MHT9WN8|      26521265|Green Bay Packers...|          Sports|          5|            0|          0|   N|                Y|          Five Stars|             Love it|2015-08-31 00:00:00|\n",
            "|         US|   37993909|R3H9543FWBWFBU|B001CSIRQ8|     652431165|Isokinetics Inc. ...|          Sports|          5|            1|          1|   N|                Y|can't wait to use it|Unfortunately I h...|2015-08-31 00:00:00|\n",
            "|         US|   26040213| RUANXOQ9W3OU5|B001KZ3NOO|     635861713|Aottop Quality El...|          Sports|          5|            0|          0|   N|                Y|great product, ac...|fast shipping , g...|2015-08-31 00:00:00|\n",
            "|         US|   34657602|R31673RTGEZSW7|B00005RCQS|      72099763|Everlast 2'x6' Fo...|          Sports|          5|            2|          2|   N|                Y|this mat is a pre...|If you have a ter...|2015-08-31 00:00:00|\n",
            "|         US|   14346192|R22OQLFSH42RCM|B00FA7RWVI|     757354022|OGIO Men's Shredd...|          Sports|          5|            1|          1|   N|                Y|  Versatile Golf Bag|Love this golf ba...|2015-08-31 00:00:00|\n",
            "|         US|   38782687|R12LEL4F3TSZUJ|B000MMH2HU|     272402599|Blue Sea Systems ...|          Sports|          5|            2|          2|   N|                Y|Great AC Main Bre...|Perfect mounting ...|2015-08-31 00:00:00|\n",
            "|         US|   27138575|R2L9XWD03072NI|B00WJOATDS|     375070208|Zengi AR15 45 Deg...|          Sports|          5|            1|          2|   N|                Y|   Nice, some quirks|For the cost you ...|2015-08-31 00:00:00|\n",
            "|         US|   11838771|R2K0U91HIACANO|B00BOM2JNY|     639666785|Black Mountain Pr...|          Sports|          5|            0|          0|   N|                N|55 cm - Good qual...|The ball is very ...|2015-08-31 00:00:00|\n",
            "|         US|     535800|R29SP6MBT7MXG7|B00OD5GAFM|      38715442|Trijicon VCOG 1-6...|          Sports|          4|            3|          3|   N|                Y|    Very nice scope.|Very nice scope.....|2015-08-31 00:00:00|\n",
            "|         US|   23156579|R31XREAAMATEPY|B00CAHDC1K|      57088652|Naruto Headband f...|          Sports|          5|            0|          0|   N|                Y|was for my son an...|           This item|2015-08-31 00:00:00|\n",
            "|         US|   48107879|R2116AVB87SO38|B004NLHXLG|     114125984|Under Armour Men'...|          Sports|          5|            0|          0|   N|                Y|          Five Stars|greatest socks i ...|2015-08-31 00:00:00|\n",
            "|         US|   27260960|R3RDVBB6O0X3HW|B00L7OANWI|     883962979|Yes4All Deep Tiss...|          Sports|          5|            0|          0|   N|                Y|          Five Stars|Perfect for home ...|2015-08-31 00:00:00|\n",
            "|         US|   39537314|R3LW5T149LKKQM|B0085PPSIQ|     691479969|Lansky PS-MED01 B...|          Sports|          4|            0|          0|   N|                Y|A bit heavy for p...|Very good product...|2015-08-31 00:00:00|\n",
            "+-----------+-----------+--------------+----------+--------------+--------------------+----------------+-----------+-------------+-----------+----+-----------------+--------------------+--------------------+-------------------+\n",
            "only showing top 20 rows\n",
            "\n"
          ],
          "name": "stdout"
        }
      ]
    },
    {
      "cell_type": "code",
      "metadata": {
        "id": "ouxKVBtG8jFl",
        "colab_type": "code",
        "colab": {}
      },
      "source": [
        "from pyspark.sql.types import IntegerType, StringType, BooleanType"
      ],
      "execution_count": 5,
      "outputs": []
    },
    {
      "cell_type": "code",
      "metadata": {
        "id": "tGMClpQN8OlO",
        "colab_type": "code",
        "colab": {}
      },
      "source": [
        "clean_data_df = user_data_df.withColumn(\"customer_id\", user_data_df[\"customer_id\"].cast(StringType()))"
      ],
      "execution_count": 6,
      "outputs": []
    },
    {
      "cell_type": "code",
      "metadata": {
        "id": "ru0_lYkz-f2_",
        "colab_type": "code",
        "colab": {}
      },
      "source": [
        "clean_data_df = clean_data_df.withColumn(\"product_parent\", clean_data_df[\"product_parent\"].cast(StringType()))"
      ],
      "execution_count": 7,
      "outputs": []
    },
    {
      "cell_type": "code",
      "metadata": {
        "id": "UoKl-W_g8zZL",
        "colab_type": "code",
        "colab": {}
      },
      "source": [
        "clean_data_df = clean_data_df.withColumn(\"star_rating\", clean_data_df[\"star_rating\"].cast(IntegerType()))"
      ],
      "execution_count": 8,
      "outputs": []
    },
    {
      "cell_type": "code",
      "metadata": {
        "id": "fSvQfgXL9GkU",
        "colab_type": "code",
        "colab": {}
      },
      "source": [
        "clean_data_df = clean_data_df.withColumn(\"vine\", clean_data_df[\"vine\"].cast(BooleanType()))"
      ],
      "execution_count": 9,
      "outputs": []
    },
    {
      "cell_type": "code",
      "metadata": {
        "id": "Z_U_3Byj9Zkk",
        "colab_type": "code",
        "colab": {}
      },
      "source": [
        "clean_data_df = clean_data_df.withColumn(\"verified_purchase\", clean_data_df[\"verified_purchase\"].cast(BooleanType()))"
      ],
      "execution_count": 10,
      "outputs": []
    },
    {
      "cell_type": "code",
      "metadata": {
        "id": "xRbvHypzdEV0",
        "colab_type": "code",
        "colab": {}
      },
      "source": [
        "clean_data_df = clean_data_df.dropna()"
      ],
      "execution_count": 11,
      "outputs": []
    },
    {
      "cell_type": "code",
      "metadata": {
        "id": "WHn7EQx3dKAw",
        "colab_type": "code",
        "colab": {}
      },
      "source": [
        "clean_data_df = clean_data_df.dropDuplicates()"
      ],
      "execution_count": 12,
      "outputs": []
    },
    {
      "cell_type": "code",
      "metadata": {
        "id": "pUU2MZBp9iql",
        "colab_type": "code",
        "colab": {
          "base_uri": "https://localhost:8080/",
          "height": 312
        },
        "outputId": "7b51b13a-061a-4181-b3d4-7c6a7b978eb0"
      },
      "source": [
        "clean_data_df.printSchema()"
      ],
      "execution_count": 13,
      "outputs": [
        {
          "output_type": "stream",
          "text": [
            "root\n",
            " |-- marketplace: string (nullable = true)\n",
            " |-- customer_id: string (nullable = true)\n",
            " |-- review_id: string (nullable = true)\n",
            " |-- product_id: string (nullable = true)\n",
            " |-- product_parent: string (nullable = true)\n",
            " |-- product_title: string (nullable = true)\n",
            " |-- product_category: string (nullable = true)\n",
            " |-- star_rating: integer (nullable = true)\n",
            " |-- helpful_votes: integer (nullable = true)\n",
            " |-- total_votes: integer (nullable = true)\n",
            " |-- vine: boolean (nullable = true)\n",
            " |-- verified_purchase: boolean (nullable = true)\n",
            " |-- review_headline: string (nullable = true)\n",
            " |-- review_body: string (nullable = true)\n",
            " |-- review_date: timestamp (nullable = true)\n",
            "\n"
          ],
          "name": "stdout"
        }
      ]
    },
    {
      "cell_type": "code",
      "metadata": {
        "id": "ZCLyYv_fm9_p",
        "colab_type": "code",
        "colab": {}
      },
      "source": [
        "no_vine_df = clean_data_df.filter(clean_data_df[\"vine\"]==False)"
      ],
      "execution_count": 14,
      "outputs": []
    },
    {
      "cell_type": "code",
      "metadata": {
        "id": "P_5wnnHzneJg",
        "colab_type": "code",
        "colab": {}
      },
      "source": [
        "vine_df = clean_data_df.filter(clean_data_df[\"vine\"]==True)"
      ],
      "execution_count": 15,
      "outputs": []
    },
    {
      "cell_type": "code",
      "metadata": {
        "id": "4fsNQg7ex5tI",
        "colab_type": "code",
        "colab": {}
      },
      "source": [
        "no_vine_helpful = clean_data_df.filter((clean_data_df[\"vine\"]==False) & (clean_data_df[\"helpful_votes\"]>0))"
      ],
      "execution_count": 17,
      "outputs": []
    },
    {
      "cell_type": "code",
      "metadata": {
        "id": "Az1IajnWzi68",
        "colab_type": "code",
        "colab": {}
      },
      "source": [
        "vine_helpful = clean_data_df.filter((clean_data_df[\"vine\"]==True) & (clean_data_df[\"helpful_votes\"]>0))"
      ],
      "execution_count": 18,
      "outputs": []
    },
    {
      "cell_type": "code",
      "metadata": {
        "id": "52xsgMF4n2Io",
        "colab_type": "code",
        "colab": {
          "base_uri": "https://localhost:8080/",
          "height": 488
        },
        "outputId": "f503cd1c-cf12-4d66-cc9c-a463f520fb90"
      },
      "source": [
        "no_vine_helpful.show()"
      ],
      "execution_count": 19,
      "outputs": [
        {
          "output_type": "stream",
          "text": [
            "+-----------+-----------+--------------+----------+--------------+--------------------+----------------+-----------+-------------+-----------+-----+-----------------+--------------------+--------------------+-------------------+\n",
            "|marketplace|customer_id|     review_id|product_id|product_parent|       product_title|product_category|star_rating|helpful_votes|total_votes| vine|verified_purchase|     review_headline|         review_body|        review_date|\n",
            "+-----------+-----------+--------------+----------+--------------+--------------------+----------------+-----------+-------------+-----------+-----+-----------------+--------------------+--------------------+-------------------+\n",
            "|         US|   52467947| ROVT8XIK2DDO0|B00HWJGMGI|     457555201|Moultrie M-1100i ...|          Sports|          3|            3|          3|false|             true|but my cell phone...|I bought 5 of the...|2015-08-31 00:00:00|\n",
            "|         US|     247695|R380AFN78YW0X4|B00O45DJLY|     577863295|Maxpedition Kodia...|          Sports|          5|            2|          2|false|             true|Great pack, carri...|Great pack, carri...|2015-08-31 00:00:00|\n",
            "|         US|   14746130|R2PADCFUFQW1R6|B008PJT9E6|     725305416|Under Armour Big ...|          Sports|          3|            1|          1|false|             true|     Sizes run small|The pants are fin...|2015-08-31 00:00:00|\n",
            "|         US|   36625049| RDW51WPDCGVW2|B00OY9MQD2|     139854042|Tackle Webs Hook ...|          Sports|          5|            1|          1|false|             true|          Five Stars|They worked perfe...|2015-08-31 00:00:00|\n",
            "|         US|   44109022|R1UCPTCUGLLDN7|B00NCSUZBQ|     974141719|Magma Newport 2 G...|          Sports|          1|            2|          4|false|             true|                Pity|Legs could not ad...|2015-08-31 00:00:00|\n",
            "|         US|    1835162|R35TAOHYJ7LIO9|B012G6ZO3I|     305658645|Optical Mirrored ...|          Sports|          5|            1|          1|false|            false|Wish I would have...|I wish I would ha...|2015-08-30 00:00:00|\n",
            "|         US|   22238916|R3DGMFEH7PNJMU|B002QH6ZUY|     275667530|X6 Golf Club Groo...|          Sports|          5|            2|          2|false|             true|It's nice when so...|Works good once y...|2015-08-30 00:00:00|\n",
            "|         US|   22257923|R14559B33FG3UI|B00OQPBLRG|     554476527|Crescendo Athleti...|          Sports|          5|            1|          1|false|             true|Very good product...|Very good product...|2015-08-30 00:00:00|\n",
            "|         US|   12990476|R1V038ODDEZ056|B012FGBRO4|     602948122|Hydraulic Mini St...|          Sports|          5|            1|          1|false|             true|   Good Mini Stepper|I really like thi...|2015-08-30 00:00:00|\n",
            "|         US|   47269752| RAQX497TRUDH3|B00A43ZQH0|     647952834|Police 88,000,000...|          Sports|          3|            2|          2|false|             true|         Good Enough|This stun gun wor...|2015-08-30 00:00:00|\n",
            "|         US|    2819440| RQVL67UM0F9EL|B011PZM4DY|     684692979|Barbell Pad Squat...|          Sports|          5|            1|          1|false|             true|          Five Stars|This is a great p...|2015-08-30 00:00:00|\n",
            "|         US|   25912710|R1ZVSI09PQ7TK6|B001MYM6XM|     325439378|P90 Electric Airs...|          Sports|          4|            1|          2|false|             true|airsoft great pro...|Looks like real t...|2015-08-30 00:00:00|\n",
            "|         US|   37770094| RKNJUXA2YTRO6|B00FX0S4DC|     449685543|BalanceFrom High ...|          Sports|          2|            1|          1|false|             true|Requires a steady...|Buy stock in Dura...|2015-08-30 00:00:00|\n",
            "|         US|   37653082|R22IA3R3OA9R1L|B00B4KKSE8|     939946869|EZGO Electric (20...|          Sports|          5|            4|          5|false|             true| Worked like a charm|Worked like a cha...|2015-08-30 00:00:00|\n",
            "|         US|   11836759|R39Z4J3IT662R4|B00HPQ22XK|     845220278|Vipertek VTS-195 ...|          Sports|          5|            1|          1|false|             true|                Nice|Feels good in the...|2015-08-29 00:00:00|\n",
            "|         US|    7288277|R1V3UZJZ785IHZ|B00CJJ9YP2|     132136359|Rac-Em-Bac REB600...|          Sports|          1|            7|         10|false|             true|Total crap and se...|Do not buy. Total...|2015-08-29 00:00:00|\n",
            "|         US|   26381889|R24S16L4XFHD8P|B0051EOO1G|     469641495|Peerless Handcuff...|          Sports|          4|            1|          2|false|             true|Breaking in issue...|So far so good.  ...|2015-08-29 00:00:00|\n",
            "|         US|   11450970|R1P208FA3CTBJ2|B00OG8SVHQ|     178898663|\"F-Bomb\" Embroide...|          Sports|          3|            1|          2|false|             true|Flimsy, but comic...|Decent patch, but...|2015-08-29 00:00:00|\n",
            "|         US|   46404449|R20UG4MKPQPWF9|B005QA64HC|      96854541|Voodoo Tactical 2...|          Sports|          2|            1|          1|false|             true|Shame, made in China|Very poorly const...|2015-08-29 00:00:00|\n",
            "|         US|     246175|R2GVAITN34V8PT|B00TEXZ40A|     347452904|Jump Rope Speed W...|          Sports|          1|            1|          2|false|             true|This jump rope ha...|This jump rope ha...|2015-08-29 00:00:00|\n",
            "+-----------+-----------+--------------+----------+--------------+--------------------+----------------+-----------+-------------+-----------+-----+-----------------+--------------------+--------------------+-------------------+\n",
            "only showing top 20 rows\n",
            "\n"
          ],
          "name": "stdout"
        }
      ]
    },
    {
      "cell_type": "code",
      "metadata": {
        "id": "WhSdiAKcnkWm",
        "colab_type": "code",
        "colab": {
          "base_uri": "https://localhost:8080/",
          "height": 191
        },
        "outputId": "e0f5da9b-dbb8-4bf3-facf-b4386e19596f"
      },
      "source": [
        "no_vine_helpful.select(\"star_rating\").describe().show()"
      ],
      "execution_count": 20,
      "outputs": [
        {
          "output_type": "stream",
          "text": [
            "+-------+------------------+\n",
            "|summary|       star_rating|\n",
            "+-------+------------------+\n",
            "|  count|           1518546|\n",
            "|   mean| 3.991325913077378|\n",
            "| stddev|1.4000271744629806|\n",
            "|    min|                 1|\n",
            "|    max|                 5|\n",
            "+-------+------------------+\n",
            "\n"
          ],
          "name": "stdout"
        }
      ]
    },
    {
      "cell_type": "code",
      "metadata": {
        "id": "raTq6GNaoUFB",
        "colab_type": "code",
        "colab": {
          "base_uri": "https://localhost:8080/",
          "height": 191
        },
        "outputId": "b5363c1d-0ea5-4641-fdd7-cc18b130d9fa"
      },
      "source": [
        "vine_helpful.select(\"star_rating\").describe().show()"
      ],
      "execution_count": 21,
      "outputs": [
        {
          "output_type": "stream",
          "text": [
            "+-------+------------------+\n",
            "|summary|       star_rating|\n",
            "+-------+------------------+\n",
            "|  count|              4442|\n",
            "|   mean| 4.138226024313372|\n",
            "| stddev|0.9834396874214884|\n",
            "|    min|                 1|\n",
            "|    max|                 5|\n",
            "+-------+------------------+\n",
            "\n"
          ],
          "name": "stdout"
        }
      ]
    },
    {
      "cell_type": "code",
      "metadata": {
        "id": "S0DoIMfhpZE6",
        "colab_type": "code",
        "colab": {}
      },
      "source": [
        "no_vine_rank =  [int(row.star_rating) for row in no_vine_helpful.select(\"star_rating\").collect()]"
      ],
      "execution_count": 22,
      "outputs": []
    },
    {
      "cell_type": "code",
      "metadata": {
        "id": "WrXz5aFKqhX4",
        "colab_type": "code",
        "colab": {}
      },
      "source": [
        "vine_rank =  [int(row.star_rating) for row in vine_helpful.select(\"star_rating\").collect()]"
      ],
      "execution_count": 23,
      "outputs": []
    },
    {
      "cell_type": "code",
      "metadata": {
        "id": "-fHEBGuAqza7",
        "colab_type": "code",
        "colab": {}
      },
      "source": [
        "import scipy.stats as st"
      ],
      "execution_count": 24,
      "outputs": []
    },
    {
      "cell_type": "markdown",
      "metadata": {
        "id": "HpwAXtWKs6HF",
        "colab_type": "text"
      },
      "source": [
        "2 Sample T-test  : to veriy whether average of star_rating from vine and the other is statistically different."
      ]
    },
    {
      "cell_type": "code",
      "metadata": {
        "id": "CbCn8yXAs3my",
        "colab_type": "code",
        "colab": {
          "base_uri": "https://localhost:8080/",
          "height": 35
        },
        "outputId": "8fa92d16-25d4-4bc2-bb97-146c9cbe252c"
      },
      "source": [
        "st.ttest_ind(vine_rank, no_vine_rank, equal_var=False)"
      ],
      "execution_count": 25,
      "outputs": [
        {
          "output_type": "execute_result",
          "data": {
            "text/plain": [
              "Ttest_indResult(statistic=9.926134694923544, pvalue=5.515745741864647e-23)"
            ]
          },
          "metadata": {
            "tags": []
          },
          "execution_count": 25
        }
      ]
    },
    {
      "cell_type": "markdown",
      "metadata": {
        "id": "nZoRuzmttrFK",
        "colab_type": "text"
      },
      "source": [
        "Conclusion : 2 Sample T-test shows the average of star_rating from vine and the other is statistically different."
      ]
    },
    {
      "cell_type": "code",
      "metadata": {
        "id": "2hsNH0mhs3MR",
        "colab_type": "code",
        "colab": {}
      },
      "source": [
        ""
      ],
      "execution_count": null,
      "outputs": []
    },
    {
      "cell_type": "markdown",
      "metadata": {
        "id": "tONrfwT-s4R2",
        "colab_type": "text"
      },
      "source": [
        "ANOVA Test"
      ]
    },
    {
      "cell_type": "code",
      "metadata": {
        "id": "Ja0e7LqDrkHv",
        "colab_type": "code",
        "colab": {
          "base_uri": "https://localhost:8080/",
          "height": 35
        },
        "outputId": "1ac16d27-ccfa-4f5c-deeb-90ded44fad5f"
      },
      "source": [
        "st.f_oneway(vine_rank, no_vine_rank)"
      ],
      "execution_count": 26,
      "outputs": [
        {
          "output_type": "execute_result",
          "data": {
            "text/plain": [
              "F_onewayResult(statistic=48.83411704338422, pvalue=2.7866552337033935e-12)"
            ]
          },
          "metadata": {
            "tags": []
          },
          "execution_count": 26
        }
      ]
    },
    {
      "cell_type": "markdown",
      "metadata": {
        "id": "rpTPyOxOsNtb",
        "colab_type": "text"
      },
      "source": [
        "Conclusion: ANOVA Test shows averages of star_rating values from vine and the other are significantly different.\n",
        "It mean Vine Group gives higher star rating than others."
      ]
    }
  ]
}